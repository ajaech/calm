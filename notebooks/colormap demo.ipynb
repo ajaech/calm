{
 "cells": [
  {
   "cell_type": "code",
   "execution_count": 10,
   "metadata": {
    "collapsed": true
   },
   "outputs": [],
   "source": [
    "from IPython.core.display import display, HTML\n",
    "from matplotlib import colors, pyplot\n",
    "import numpy as np"
   ]
  },
  {
   "cell_type": "code",
   "execution_count": 11,
   "metadata": {
    "collapsed": true
   },
   "outputs": [],
   "source": [
    "def rgb_to_hex(red, green, blue, _):\n",
    "    \"\"\"Return color as #rrggbb for the given color values.\"\"\"\n",
    "    return '#%02x%02x%02x' % (255 * red, 255 * green, 255 * blue)"
   ]
  },
  {
   "cell_type": "code",
   "execution_count": 12,
   "metadata": {
    "collapsed": false
   },
   "outputs": [],
   "source": [
    "words = \"\"\"we hold these truths to be self-evident, that all men\n",
    "           are created equal, that they are endowed by their creator\n",
    "           with certain unalienable rights, that among these are \n",
    "           life, liberty and the pursuit of happiness\"\"\".split()\n",
    "scores = np.random.rand(len(words))"
   ]
  },
  {
   "cell_type": "code",
   "execution_count": 13,
   "metadata": {
    "collapsed": false
   },
   "outputs": [
    {
     "data": {
      "text/html": [
       "<h1 style=\"color:#2F464F;line-height:35px;\"><span style=\"background-color:#d35a4a\">we </span><span style=\"background-color:#d96853\">hold </span><span style=\"background-color:#dd7059\">these </span><span style=\"background-color:#7b0622\">truths </span><span style=\"background-color:#67001f\">to </span><span style=\"background-color:#7b0622\">be </span><span style=\"background-color:#f5ae8e\">self-evident, </span><span style=\"background-color:#1e60a4\">that </span><span style=\"background-color:#74b2d3\">all </span><span style=\"background-color:#b92732\">men </span><span style=\"background-color:#2d76b4\">are </span><span style=\"background-color:#f6b496\">created </span><span style=\"background-color:#f7bb9e\">equal, </span><span style=\"background-color:#61a6cd\">that </span><span style=\"background-color:#c33b3b\">they </span><span style=\"background-color:#ec9374\">are </span><span style=\"background-color:#fbd4be\">endowed </span><span style=\"background-color:#e5eef3\">by </span><span style=\"background-color:#3581b9\">their </span><span style=\"background-color:#77b4d5\">creator </span><span style=\"background-color:#053061\">with </span><span style=\"background-color:#b6212f\">certain </span><span style=\"background-color:#a7cfe4\">unalienable </span><span style=\"background-color:#c33b3b\">rights, </span><span style=\"background-color:#3d8bbf\">that </span><span style=\"background-color:#f6b496\">among </span><span style=\"background-color:#3581b9\">these </span><span style=\"background-color:#f5ae8e\">are </span><span style=\"background-color:#6c011f\">life, </span><span style=\"background-color:#3986bc\">liberty </span><span style=\"background-color:#c53e3d\">and </span><span style=\"background-color:#083669\">the </span><span style=\"background-color:#fbe2d4\">pursuit </span><span style=\"background-color:#95c6df\">of </span><span style=\"background-color:#f3f5f6\">happiness </span></h1>"
      ],
      "text/plain": [
       "<IPython.core.display.HTML object>"
      ]
     },
     "metadata": {},
     "output_type": "display_data"
    }
   ],
   "source": [
    "cmap = pyplot.cm.RdBu\n",
    "norm = colors.Normalize(vmin=scores.min(), vmax=scores.max())\n",
    "code='<h1 style=\"color:#2F464F;line-height:35px;\">'\n",
    "\n",
    "for i in range(len(words)):\n",
    "    word = words[i]\n",
    "    score = scores[i]\n",
    "            \n",
    "    color = cmap(norm(score))\n",
    "    rgb = rgb_to_hex(*color)\n",
    "    code += '<span style=\"background-color:{1}\">{0} </span>'.format(word, rgb)\n",
    "\n",
    "code += '</h1>'\n",
    "\n",
    "display(HTML(code))\n"
   ]
  },
  {
   "cell_type": "code",
   "execution_count": null,
   "metadata": {
    "collapsed": true
   },
   "outputs": [],
   "source": []
  }
 ],
 "metadata": {
  "kernelspec": {
   "display_name": "Python 2",
   "language": "python",
   "name": "python2"
  },
  "language_info": {
   "codemirror_mode": {
    "name": "ipython",
    "version": 2
   },
   "file_extension": ".py",
   "mimetype": "text/x-python",
   "name": "python",
   "nbconvert_exporter": "python",
   "pygments_lexer": "ipython2",
   "version": "2.7.11"
  }
 },
 "nbformat": 4,
 "nbformat_minor": 2
}
